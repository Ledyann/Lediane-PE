{
  "nbformat": 4,
  "nbformat_minor": 0,
  "metadata": {
    "colab": {
      "name": "Aula2608.ipynb",
      "provenance": [],
      "authorship_tag": "ABX9TyMLwDMw5B0pkVM4LdQz60vh",
      "include_colab_link": true
    },
    "kernelspec": {
      "name": "python3",
      "display_name": "Python 3"
    }
  },
  "cells": [
    {
      "cell_type": "markdown",
      "metadata": {
        "id": "view-in-github",
        "colab_type": "text"
      },
      "source": [
        "<a href=\"https://colab.research.google.com/github/Ledyanne/Lediane-PE/blob/master/Aula2608.ipynb\" target=\"_parent\"><img src=\"https://colab.research.google.com/assets/colab-badge.svg\" alt=\"Open In Colab\"/></a>"
      ]
    },
    {
      "cell_type": "code",
      "metadata": {
        "id": "U1O_1Hf6J0qr",
        "colab_type": "code",
        "colab": {
          "base_uri": "https://localhost:8080/",
          "height": 34
        },
        "outputId": "99a1ba87-8904-4320-ab8e-df2ac47e596d"
      },
      "source": [
        "teste = 1"
      ],
      "execution_count": 2,
      "outputs": [
        {
          "output_type": "stream",
          "text": [
            "1\n"
          ],
          "name": "stdout"
        }
      ]
    },
    {
      "cell_type": "code",
      "metadata": {
        "id": "OsGvkBQGKPro",
        "colab_type": "code",
        "colab": {
          "base_uri": "https://localhost:8080/",
          "height": 34
        },
        "outputId": "82e7e338-2ebd-4b89-e7e6-ac62c8766015"
      },
      "source": [
        "print(teste)"
      ],
      "execution_count": 5,
      "outputs": [
        {
          "output_type": "stream",
          "text": [
            "1\n"
          ],
          "name": "stdout"
        }
      ]
    },
    {
      "cell_type": "code",
      "metadata": {
        "id": "ifOgW9NIOTkd",
        "colab_type": "code",
        "colab": {
          "base_uri": "https://localhost:8080/",
          "height": 68
        },
        "outputId": "3f9301f1-407c-4fee-ed4d-6e513e4810a5"
      },
      "source": [
        "MeuTexto1 = \"ppppp\\nooo\"\n",
        "MeuTexto2 = \"hhhhh\"\n",
        "print(MeuTexto2, MeuTexto1)\n",
        "print( len(MeuTexto1))"
      ],
      "execution_count": 13,
      "outputs": [
        {
          "output_type": "stream",
          "text": [
            "hhhhh ppppp\n",
            "ooo\n",
            "9\n"
          ],
          "name": "stdout"
        }
      ]
    },
    {
      "cell_type": "code",
      "metadata": {
        "id": "GGzICIdEPJsf",
        "colab_type": "code",
        "colab": {
          "base_uri": "https://localhost:8080/",
          "height": 153
        },
        "outputId": "f486462f-69c6-4ca4-d537-8a7146438f6b"
      },
      "source": [
        "Frase = 'lediane'\n",
        "print(Frase[len(Frase)//2])\n",
        "print(Frase[-3])\n",
        "print(Frase[2:])\n",
        "print(Frase[2:6])\n",
        "print(Frase[::2])\n",
        "print(Frase[2::2])\n",
        "print(Frase[2:7:3])\n",
        "print(Frase[2::2])"
      ],
      "execution_count": 24,
      "outputs": [
        {
          "output_type": "stream",
          "text": [
            "i\n",
            "a\n",
            "diane\n",
            "dian\n",
            "ldae\n",
            "dae\n",
            "dn\n",
            "dae\n"
          ],
          "name": "stdout"
        }
      ]
    },
    {
      "cell_type": "code",
      "metadata": {
        "id": "vVT0i5yjQ8SO",
        "colab_type": "code",
        "colab": {
          "base_uri": "https://localhost:8080/",
          "height": 68
        },
        "outputId": "80bcbdb1-5a83-43e1-96bd-e024e64ae2f1"
      },
      "source": [
        "Text1 = 'IESB'\n",
        "Text2 = 'O' + Text1[1:]\n",
        "print(Text2)\n",
        "Text1 = Text1 + Text1\n",
        "print(Text1)\n",
        "Text3 = 3*Text1\n",
        "print(Text3)"
      ],
      "execution_count": 30,
      "outputs": [
        {
          "output_type": "stream",
          "text": [
            "OESB\n",
            "IESBIESB\n",
            "IESBIESBIESBIESBIESBIESB\n"
          ],
          "name": "stdout"
        }
      ]
    },
    {
      "cell_type": "code",
      "metadata": {
        "id": "MHuCSZp6VPfc",
        "colab_type": "code",
        "colab": {
          "base_uri": "https://localhost:8080/",
          "height": 122
        },
        "outputId": "69ce037f-b83f-46da-99a7-da2c9493a059"
      },
      "source": [
        "Frase = 'Amo como ama o amor. Não conheço nenhuma outra razão para amar senão amar. Que queres que te diga, além de que te amo, se o que quero dizer-te é que te amo?'\n",
        "FraseSeparada = Frase.split()\n",
        "print(FraseSeparada)\n",
        "print(len(Frase.split()))\n",
        "print(len(Frase.split('m')))\n",
        "print(len(Frase.split('o')))\n",
        "print(Frase.split('m'))\n"
      ],
      "execution_count": 36,
      "outputs": [
        {
          "output_type": "stream",
          "text": [
            "['Amo', 'como', 'ama', 'o', 'amor.', 'Não', 'conheço', 'nenhuma', 'outra', 'razão', 'para', 'amar', 'senão', 'amar.', 'Que', 'queres', 'que', 'te', 'diga,', 'além', 'de', 'que', 'te', 'amo,', 'se', 'o', 'que', 'quero', 'dizer-te', 'é', 'que', 'te', 'amo?']\n",
            "33\n",
            "11\n",
            "16\n",
            "['A', 'o co', 'o a', 'a o a', 'or. Não conheço nenhu', 'a outra razão para a', 'ar senão a', 'ar. Que queres que te diga, alé', ' de que te a', 'o, se o que quero dizer-te é que te a', 'o?']\n"
          ],
          "name": "stdout"
        }
      ]
    },
    {
      "cell_type": "code",
      "metadata": {
        "id": "gCdaLCPdXv25",
        "colab_type": "code",
        "colab": {}
      },
      "source": [
        ""
      ],
      "execution_count": 36,
      "outputs": []
    },
    {
      "cell_type": "code",
      "metadata": {
        "id": "ikMn0_mrXv-c",
        "colab_type": "code",
        "colab": {
          "base_uri": "https://localhost:8080/",
          "height": 51
        },
        "outputId": "ec747ba5-b4f8-4acc-e0a3-528201429b52"
      },
      "source": [
        "Contando = 'LedianeLedianeLediane'\n",
        "print(Contando.split('e'))\n",
        "print(len(Contando.split('e'))-1)"
      ],
      "execution_count": 45,
      "outputs": [
        {
          "output_type": "stream",
          "text": [
            "['L', 'dian', 'L', 'dian', 'L', 'dian', '']\n",
            "6\n"
          ],
          "name": "stdout"
        }
      ]
    },
    {
      "cell_type": "code",
      "metadata": {
        "id": "UsdLWf6HaF8W",
        "colab_type": "code",
        "colab": {
          "base_uri": "https://localhost:8080/",
          "height": 34
        },
        "outputId": "f1759f57-d20f-4df7-83ef-1e93ea268570"
      },
      "source": [
        "MeusPets = 'Meus pets foram: {}, {}, {} e {}'\n",
        "Pet1 = 'Pitucha'\n",
        "Pet2 = 'Perola'\n",
        "Pet3 = 'Julia'\n",
        "Pet4 = 'Meg'\n",
        "print( MeusPets.format(Pet1, Pet2, Pet3, Pet4) )"
      ],
      "execution_count": 53,
      "outputs": [
        {
          "output_type": "stream",
          "text": [
            "Meus pets foram: Pitucha, Perola, Julia e Meg\n"
          ],
          "name": "stdout"
        }
      ]
    },
    {
      "cell_type": "code",
      "metadata": {
        "id": "1U5yx1N9cC4q",
        "colab_type": "code",
        "colab": {
          "base_uri": "https://localhost:8080/",
          "height": 170
        },
        "outputId": "40866979-9ac0-4c4a-dee4-2de7d069f000"
      },
      "source": [
        "Lista1 = [4, 'IESB', 78.5, False]\n",
        "print(Lista1)\n",
        "print(type(Lista1[0]))\n",
        "print(Lista1[1][2])\n",
        "print(Lista1[1][3])\n",
        "Lista1[0]=Lista1[0]*5\n",
        "print(Lista1)\n",
        "Lista1[1] = 2*Lista1[1]\n",
        "print(Lista1)\n",
        "Lista1[3]=99.99\n",
        "print(Lista1)\n",
        "Lista2 = [4, 'IESB', 78.5, False]\n",
        "Lista1[2] = 2*Lista2\n",
        "print(Lista2)\n",
        "Lista3 = [1,2,3,4]\n",
        "Lista3 = 2*Lista3\n",
        "print(Lista3)\n",
        "\n"
      ],
      "execution_count": 68,
      "outputs": [
        {
          "output_type": "stream",
          "text": [
            "[4, 'IESB', 78.5, False]\n",
            "<class 'int'>\n",
            "S\n",
            "B\n",
            "[20, 'IESB', 78.5, False]\n",
            "[20, 'IESBIESB', 78.5, False]\n",
            "[20, 'IESBIESB', 78.5, 99.99]\n",
            "[4, 'IESB', 78.5, False]\n",
            "[1, 2, 3, 4, 1, 2, 3, 4]\n"
          ],
          "name": "stdout"
        }
      ]
    }
  ]
}