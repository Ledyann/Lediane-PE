{
  "nbformat": 4,
  "nbformat_minor": 0,
  "metadata": {
    "colab": {
      "name": "Untitled2.ipynb",
      "provenance": [],
      "collapsed_sections": [],
      "authorship_tag": "ABX9TyMVjG2S2P1Vi+cFyQkLrAGe",
      "include_colab_link": true
    },
    "kernelspec": {
      "name": "python3",
      "display_name": "Python 3"
    }
  },
  "cells": [
    {
      "cell_type": "markdown",
      "metadata": {
        "id": "view-in-github",
        "colab_type": "text"
      },
      "source": [
        "<a href=\"https://colab.research.google.com/github/Ledyann/Lediane-PE/blob/master/lista4.ipynb\" target=\"_parent\"><img src=\"https://colab.research.google.com/assets/colab-badge.svg\" alt=\"Open In Colab\"/></a>"
      ]
    },
    {
      "cell_type": "markdown",
      "metadata": {
        "id": "JZQdP8PNQbV6"
      },
      "source": [
        "Disciplina: Probabilidade e Estatística\n",
        "\n",
        "Aluno: Lediane Silva\n",
        "\n",
        "Matrícula: 2014290050\n",
        "\n",
        "Lista 4\n"
      ]
    },
    {
      "cell_type": "markdown",
      "metadata": {
        "id": "ThNUrXvLnMYa"
      },
      "source": [
        "Escreva um programa para ler o número de lados de um polígono regular e a\n",
        "medida do lado (em cm). Calcular e imprimir o seguinte: − Se o número de lados\n",
        "for igual a 3 escrever TRIÂNGULO e o valor da área − Se o número de lados for\n",
        "igual a 4 escrever QUADRADO e o valor da sua área. − Se o número de lados for\n",
        "igual a 5 escrever PENTÁGONO"
      ]
    },
    {
      "cell_type": "code",
      "metadata": {
        "id": "rM_7uIFFnSNy"
      },
      "source": [
        "#Importar o math para usar nos cálculos\n",
        "import math\n",
        "\n",
        "#Colher a quantidade de lados o polígono regular\n",
        "lados = int(input(\"Quantos lados tem este polígono regular?\"))\n",
        "\n",
        "#Colher o tamanho de cada seçao do polígono regular\n",
        "tamanho = float(input(\"Qual o tamanho de cada lado do polígono?\"))\n",
        "\n",
        "#Calcular a área de um polígono regular\n",
        "areaCalculada = (lados * (tamanho * tamanho) / (4 * math.tan(math.pi / lados)))\n",
        "\n",
        "#Condicionais de acodo com o execício 1\n",
        "if lados == 3:\n",
        "  print('É um TRIANGULO com %5.3f de área' % areaCalculada)\n",
        "elif lados == 4:\n",
        "  print('É um QUADRADO com %5.3f de área' % areaCalculada)\n",
        "elif lados == 5:\n",
        "  print('É um PENTÁGONO')\n",
        "else:\n",
        "  print('Não é uma das opções do exercício 1')"
      ],
      "execution_count": null,
      "outputs": []
    },
    {
      "cell_type": "markdown",
      "metadata": {
        "id": "kYT16p0ZtNca"
      },
      "source": [
        "Acrescente as seguintes mensagens à solução do exercício anterior conforme o\n",
        "caso. − Caso o número de lados seja inferior a 3 escrever NÃO É UM\n",
        "POLÍGONO. − Caso o número de lados seja superior a 5 escrever POLÍGONO\n",
        "NÃO IDENTIFICADO."
      ]
    },
    {
      "cell_type": "code",
      "metadata": {
        "id": "58Sq-MgAttr7"
      },
      "source": [
        "#Importar math para fazer os calculos\n",
        "import math\n",
        "\n",
        "#Colher a quantidade de lados o polígono regular\n",
        "lados = int(input(\"Quantos lados tem este polígono regular?\"))\n",
        "\n",
        "#Colher o tamanho de cada seçao do polígono regular\n",
        "tamanho = float(input(\"Qual o tamanho de cada lado do polígono?\"))\n",
        "\n",
        "#Condicionais de acodo com o execício 1\n",
        "if lados < 3:\n",
        "  print('NÃO É UM POLÍGONO')\n",
        "elif lados > 5:\n",
        "  print('POLÍGONO NÃO IDENTIFICADO')\n",
        "else:\n",
        "  #Calcular a área de um polígono regular\n",
        "  areaCalculada = (lados * (tamanho * tamanho) / (4 * math.tan(math.pi / lados)))\n",
        "  if lados == 3:\n",
        "    print('É um TRIANGULO com %5.3f de área' % areaCalculada)\n",
        "  elif lados == 4:\n",
        "    print('É um QUADRADO com %5.3f de área' % areaCalculada)\n",
        "  elif lados == 5:\n",
        "    print('É um PENTÁGONO')\n",
        "  else:\n",
        "    print('Não é uma das opções previstas do exercício 2')\n",
        "    "
      ],
      "execution_count": null,
      "outputs": []
    },
    {
      "cell_type": "markdown",
      "metadata": {
        "id": "51G0FVajvToM"
      },
      "source": [
        "Escreva um programa para ler 3 valores inteiros e escrever o maior deles.\n",
        "Considere que o usuário não informará valores iguais.\n"
      ]
    },
    {
      "cell_type": "code",
      "metadata": {
        "id": "ZP1N5TIjvmAs"
      },
      "source": [
        "#Colher valor 1\n",
        "valor1 = int(input(\"Entre com o 1º valor:\"))\n",
        "\n",
        "#Colher valor 2\n",
        "valor2 = int(input(\"Entre com o 2º valor:\"))\n",
        "\n",
        "#Colher valor 3\n",
        "valor3 = int(input(\"Entre com o 3º valor:\"))\n",
        "\n",
        "#Verificar qual dos três valores é o maior\n",
        "if valor1 >= valor2 and valor1 >= valor3:\n",
        "  print('O 1º é o maior valor que é %5.0f' % valor1)\n",
        "elif valor2 >= valor1 and valor2 >= valor3:\n",
        "  print('O 2º é o maior valor que é %5.0f' % valor2)\n",
        "elif valor3 >= valor1 and valor3 >= valor2:\n",
        "  print('O 3º é o maior valor que é %5.0f' % valor3)\n",
        "else:\n",
        "  print('Situação não prevista')\n"
      ],
      "execution_count": null,
      "outputs": []
    },
    {
      "cell_type": "markdown",
      "metadata": {
        "id": "DyjQ2Nh60SXf"
      },
      "source": [
        "Escreva um programa que leia as medidas dos lados de um triângulo e escreva\n",
        "se ele é Equilátero, Isósceles ou Escaleno. Sendo que: − Triângulo Equilátero:\n",
        "possui os 3 lados iguais. − Triângulo Isóscele: possui 2 lados iguais. − Triângulo\n",
        "Escaleno: possui 3 lados diferentes"
      ]
    },
    {
      "cell_type": "code",
      "metadata": {
        "id": "HSd7prus0zWq"
      },
      "source": [
        "#Colher o lado 1 do triângulo\n",
        "lado1 = int(input(\"Entre com o 1º lado do triângulo:\"))\n",
        "\n",
        "#Colher o lado 2 do triângulo\n",
        "lado2 = int(input(\"Entre com o 2º lado do triângulo:\"))\n",
        "\n",
        "#Colher lado 3 do triângulo\n",
        "lado3 = int(input(\"Entre com o 3º lado do triângulo:\"))\n",
        "\n",
        "#Verificar qual tipo de triângulo de acordo com seus lados\n",
        "if lado1 == lado2 and lado1 == valor3:\n",
        "  print('É o triângulo equilátero')\n",
        "elif lado1 == valor2 or lado2 == valor3 or lado1 == lado3:\n",
        "  print('É um triângulo isóceles')\n",
        "else:\n",
        "  print('É um triângulo escaleno')"
      ],
      "execution_count": null,
      "outputs": []
    },
    {
      "cell_type": "markdown",
      "metadata": {
        "id": "qjIhVyvv2bd6"
      },
      "source": [
        "Escreva um programa que leia o valor de 3 ângulos de um triângulo e escreva se\n",
        "o triângulo é Acutângulo, Retângulo ou Obtusângulo. Sendo que: − Triângulo\n",
        "Retângulo: possui um ângulo reto. (igual a 90º) − Triângulo Obtusângulo: possui\n",
        "um ângulo obtuso. (maior que90º) − Triângulo Acutângulo: possui três ângulos\n",
        "agudos. (menor que 90º)"
      ]
    },
    {
      "cell_type": "code",
      "metadata": {
        "id": "kjvxT-lh2gcN"
      },
      "source": [
        "#Colher o ângulo 1 do triângulo\n",
        "angulo1 = int(input(\"Entre com o 1º ângulo do triângulo:\"))\n",
        "\n",
        "#Colher o ângulo 2 do triângulo\n",
        "angulo2 = int(input(\"Entre com o 2º ângulo do triângulo:\"))\n",
        "\n",
        "#Colher o ângulo 3 do triângulo\n",
        "angulo3 = int(input(\"Entre com o 3º ângulo do triângulo:\"))\n",
        "\n",
        "#Verificar se os angulos são de triangulo (soma deve ser 180)\n",
        "if (angulo1 + angulo2 + angulo3) == 180:\n",
        "  #Verificar qual tipo de triângulo de acordo com seus ângulos\n",
        "  if angulo1 == 90 or angulo2 == 90 or angulo3 == 90:\n",
        "    print('É um triângulo retângulo')\n",
        "  elif angulo1 > 90 or angulo2 > 90 or angulo3 > 90:\n",
        "    print('É um triângulo obtusângulo')\n",
        "  else:\n",
        "    print('É um triângulo acutângulo')\n",
        "else:\n",
        "  print('Estes ângulos não formam um triângulo')"
      ],
      "execution_count": null,
      "outputs": []
    },
    {
      "cell_type": "markdown",
      "metadata": {
        "id": "N3I96WU94XRO"
      },
      "source": [
        "Faça um programa para ler um número inteiro e imprimir todos os números de 0\n",
        "até o número lido"
      ]
    },
    {
      "cell_type": "code",
      "metadata": {
        "id": "AJLDxjJt4bM_"
      },
      "source": [
        "#Colher um número inteiro\n",
        "numero = int(input(\"Informe um número inteiro:\"))\n",
        "  \n",
        "#Faz um laço iniciando de 0 até o valor n (valor não incluso por isso soma-se 1 para incluir o número lido)\n",
        "for a in range(0, numero + 1): \n",
        "  print(a)"
      ],
      "execution_count": null,
      "outputs": []
    },
    {
      "cell_type": "markdown",
      "metadata": {
        "id": "48htlCAJ9u2e"
      },
      "source": [
        "Solicitar um número entre 1 e 4. Se a pessoas digitar um número diferente,\n",
        "mostrar a mensagem \"entrada inválida\" e solicitar o número novamente. Se\n",
        "digitar correto mostrar o número digitado"
      ]
    },
    {
      "cell_type": "code",
      "metadata": {
        "id": "EXZBHoOp9zyU"
      },
      "source": [
        "#Informando um valor qualquer fora do intervalo para obrigar entrar no laço\n",
        "numero = 20\n",
        "#Repetir o laço enquanto o valor estiver fora do intervalo de 1 a 4, inclusive \n",
        "while numero < 1 or numero > 4:\n",
        "  #Colher o valor decimal qualquer\n",
        "  numero = float(input(\"Entre com um valor entre 1 e 4: \"))\n",
        "#Imprimir o valor decimal informado\n",
        "print('O valor digitado é %5.7f' % numero)\n"
      ],
      "execution_count": null,
      "outputs": []
    },
    {
      "cell_type": "markdown",
      "metadata": {
        "id": "ig-U8KksB3ck"
      },
      "source": [
        "Fazer um programa que receba vários valores inteiros no teclado (um valor a\n",
        "cada iteração) e determine o maior dos colocados desde o inicio do programa. A\n",
        "condição de término do programa é quando o usuário digitar zero."
      ]
    },
    {
      "cell_type": "code",
      "metadata": {
        "id": "gYTP35vALGRT"
      },
      "source": [
        "#Criamos um array vazio\n",
        "meuArray = []\n",
        "#Colher um número inteiro qualquer\n",
        "numero = int(input(\"Entre com um número: \"))\n",
        "\n",
        "#Este laço vai ficar recendo valores até numero ser 0 (zero)\n",
        "while numero != 0:\n",
        "  #Guarda o número no meu array\n",
        "  meuArray.append(numero)\n",
        "  #Colher um novo número para meu array\n",
        "  numero = int(input(\"Entre com o próximo número: \"))\n",
        "\n",
        "#Primeiro ordenamos nosso array\n",
        "meuArray.sort()\n",
        "  \n",
        "#Mostrando o ultimo valor que é o maior \n",
        "print(\"O maior valor da lista é o %5.0f:\" %meuArray[-1]) "
      ],
      "execution_count": null,
      "outputs": []
    },
    {
      "cell_type": "markdown",
      "metadata": {
        "id": "YGK0vqQcCqqD"
      },
      "source": [
        "Escreva um programa Python que leia um número inteiro positivo de 4 dígitos,\n",
        "calcule e mostre a sua decomposição em unidade, dezena, centena e milhar:\n",
        "Exemplo: 8531; unidade = 1 dezena = 3 centena = 5 5 milhar = 8"
      ]
    },
    {
      "cell_type": "code",
      "metadata": {
        "id": "Bv-qcn0-CziM"
      },
      "source": [
        "import math\n",
        "#Colher um número de 4 digitos (valores entre 1000 e 9999) em formato de string\n",
        "numero = str(int(input(\"Entre com um valor entre 1000 e 9999: \")))\n",
        "\n",
        "#Não pediu para tratar ou impedir valor fora do intervalo\n",
        "#Então é só pegar cada posição em sua decomposição decimal\n",
        "print('Unidade = ', numero[3:4], ', dezena = ', numero[2:3], ', centena = ', numero[1:2], ', milhar = ', numero[0:1])\n"
      ],
      "execution_count": null,
      "outputs": []
    }
  ]
}