{
  "nbformat": 4,
  "nbformat_minor": 0,
  "metadata": {
    "colab": {
      "name": "Untitled3.ipynb",
      "provenance": [],
      "authorship_tag": "ABX9TyO9wu6qJBtORfXlI/6Y2vnK",
      "include_colab_link": true
    },
    "kernelspec": {
      "name": "python3",
      "display_name": "Python 3"
    }
  },
  "cells": [
    {
      "cell_type": "markdown",
      "metadata": {
        "id": "view-in-github",
        "colab_type": "text"
      },
      "source": [
        "<a href=\"https://colab.research.google.com/github/Ledyann/Lediane-PE/blob/master/lista6.ipynb\" target=\"_parent\"><img src=\"https://colab.research.google.com/assets/colab-badge.svg\" alt=\"Open In Colab\"/></a>"
      ]
    },
    {
      "cell_type": "markdown",
      "metadata": {
        "id": "XB0Vimq6MUEf"
      },
      "source": [
        "Disciplina: Probabilidade e Estatística\n",
        "\n",
        "Aluno: Lediane Silva\n",
        "\n",
        "Matrícula: 2014290050\n",
        "\n",
        "Lista 6"
      ]
    },
    {
      "cell_type": "code",
      "metadata": {
        "id": "9wi15Dl1Mnn6"
      },
      "source": [
        ""
      ],
      "execution_count": null,
      "outputs": []
    }
  ]
}