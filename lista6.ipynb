{
  "nbformat": 4,
  "nbformat_minor": 0,
  "metadata": {
    "colab": {
      "name": "Untitled3.ipynb",
      "provenance": [],
      "collapsed_sections": [],
      "authorship_tag": "ABX9TyM6Uu7a1YlyD55KteufBJcd",
      "include_colab_link": true
    },
    "kernelspec": {
      "name": "python3",
      "display_name": "Python 3"
    }
  },
  "cells": [
    {
      "cell_type": "markdown",
      "metadata": {
        "id": "view-in-github",
        "colab_type": "text"
      },
      "source": [
        "<a href=\"https://colab.research.google.com/github/Ledyann/Lediane-PE/blob/master/lista6.ipynb\" target=\"_parent\"><img src=\"https://colab.research.google.com/assets/colab-badge.svg\" alt=\"Open In Colab\"/></a>"
      ]
    },
    {
      "cell_type": "markdown",
      "metadata": {
        "id": "XB0Vimq6MUEf"
      },
      "source": [
        "Disciplina: Probabilidade e Estatística\n",
        "\n",
        "Aluno: Lediane Silva\n",
        "\n",
        "Matrícula: 2014290050\n",
        "\n",
        "Lista 6"
      ]
    },
    {
      "cell_type": "markdown",
      "metadata": {
        "id": "JuZb2RTxNK0W"
      },
      "source": [
        "Questão 1"
      ]
    },
    {
      "cell_type": "code",
      "metadata": {
        "colab": {
          "base_uri": "https://localhost:8080/"
        },
        "id": "nhLIJEzZTQ6N",
        "outputId": "e33cfd92-f823-4e87-80f8-ea714c18560b"
      },
      "source": [
        "from scipy.stats import pearsonr\n",
        "\n",
        "#Valores conforme apresentado na questão 1\n",
        "Matematica = [60, 58, 73, 51, 54, 75, 48, 72, 75, 83, 62 ,52]\n",
        "Musica = [80, 62, 70, 83, 62, 92, 79, 88, 54, 82, 64, 69]\n",
        "\n",
        "#Calculando o R da Correlação de Pearson\n",
        "correlacao, _ = pearsonr(Matematica, Musica)\n",
        "\n",
        "#Resultado da Correlação \n",
        "print('A correlação é de %.3f' % correlacao)"
      ],
      "execution_count": 59,
      "outputs": [
        {
          "output_type": "stream",
          "text": [
            "A correlação é de 0.169\n"
          ],
          "name": "stdout"
        }
      ]
    },
    {
      "cell_type": "markdown",
      "metadata": {
        "id": "Bu3BkzjwWwhs"
      },
      "source": [
        "Questão 2"
      ]
    },
    {
      "cell_type": "markdown",
      "metadata": {
        "id": "xP1FOl_cWyM4"
      },
      "source": [
        "n = 12\n",
        "r = 0.207\n",
        "\n",
        "É uma correlação **fraca** entre a *Idade da Edição* e o *Número de Páginas* do livro\n",
        "\n",
        "Adendos: \n",
        "*   n = 12 é demasiado pequeno para avaliar algo\n",
        "*   Não há faixa temporal para resrtingir roll (é como comparar Bíblia Católica com Bíblia do Delphi)\n",
        "*   Correlação não implica em Causalidade\n",
        "\n"
      ]
    },
    {
      "cell_type": "markdown",
      "metadata": {
        "id": "KXXbZKYnZVjL"
      },
      "source": [
        "Questão 3"
      ]
    },
    {
      "cell_type": "code",
      "metadata": {
        "colab": {
          "base_uri": "https://localhost:8080/"
        },
        "id": "xguL53tkZXfh",
        "outputId": "c4d297e9-b53b-47bd-a809-90c285489bd0"
      },
      "source": [
        "from scipy.stats import pearsonr\n",
        "\n",
        "#Valores conforme apresentado na questão 3\n",
        "anosServico = [2, 3, 4, 5, 4, 6, 7, 8, 8, 10]\n",
        "numeroClientes = [48, 50, 56, 52, 43, 60, 62, 58, 64, 72]\n",
        "\n",
        "#Calculando o R da Correlação de Pearson\n",
        "correlacao, _ = pearsonr(anosServico, numeroClientes)\n",
        "\n",
        "#Interpretação da Correlação conforme e disponível em: \n",
        "# https://pt.wikipedia.org/wiki/Coeficiente_de_correla%C3%A7%C3%A3o_de_Pearson. Acesso em 02 dez. 2020.\n",
        "if abs(correlacao) > 0.9:\n",
        "  print('É uma correlação muito forte de %.3f' % correlacao)\n",
        "elif abs(correlacao) > 0.7:\n",
        "  print('É uma correlação forte de %.3f' % correlacao)\n",
        "elif abs(correlacao) > 0.5:\n",
        "  print('É uma correlação moderada de %.3f' % correlacao)\n",
        "elif abs(correlacao) > 0.3:\n",
        "  print('É uma correlação fraca de %.3f' % correlacao)\n",
        "else:\n",
        "  print('É uma correlação desprezível de %.3f' % correlacao)"
      ],
      "execution_count": 60,
      "outputs": [
        {
          "output_type": "stream",
          "text": [
            "É uma correlação forte de 0.877\n"
          ],
          "name": "stdout"
        }
      ]
    },
    {
      "cell_type": "markdown",
      "metadata": {
        "id": "auFUxvpBbkh_"
      },
      "source": [
        "Questão 4"
      ]
    },
    {
      "cell_type": "code",
      "metadata": {
        "colab": {
          "base_uri": "https://localhost:8080/"
        },
        "id": "_ITJB6EblO4J",
        "outputId": "5ef3c6c9-bc0d-4fff-ff7c-bf49e84c9591"
      },
      "source": [
        "from scipy.stats import pearsonr\n",
        "\n",
        "#Valores conforme apresentado na questão 4\n",
        "X = [12, 16, 18, 20, 28, 30, 40, 48, 50, 54]\n",
        "Y = [7.2, 7.4, 7, 6.5, 6.6, 6.7, 6, 5.6, 6, 5.5]\n",
        "\n",
        "#Calculando o R da Correlação de Pearson\n",
        "correlacao, _ = pearsonr(X, Y)\n",
        "\n",
        "#Resultado da Correlação \n",
        "print('A correlação é de %.3f' % correlacao)\n",
        "\n",
        "#Observação: a correlação calculada é muito forte e inversa entre Renda Bruta mensal e percentual dela anual gasta com assistência médica"
      ],
      "execution_count": 61,
      "outputs": [
        {
          "output_type": "stream",
          "text": [
            "A correlação é de -0.940\n"
          ],
          "name": "stdout"
        }
      ]
    },
    {
      "cell_type": "markdown",
      "metadata": {
        "id": "o_ocBKmoc77f"
      },
      "source": [
        "Questão 5"
      ]
    },
    {
      "cell_type": "code",
      "metadata": {
        "colab": {
          "base_uri": "https://localhost:8080/"
        },
        "id": "dLct-fgCcQOE",
        "outputId": "03279b46-f150-4bfa-cfde-5af6e4e2161a"
      },
      "source": [
        "import numpy as np \n",
        "from scipy.stats import pearsonr\n",
        "\n",
        "#Valores conforme apresentado na questão 5\n",
        "Conjunto1X = [10, 8, 13, 9, 11, 14, 6, 4, 12, 7, 5]\n",
        "Conjunto1Y = [8.04, 6.95, 7.58, 8.81, 8.33, 9.96, 7.24, 4.26, 10.84, 4.82, 5.68]\n",
        "\n",
        "Conjunto2X = [10, 8, 13, 9, 11, 14, 6, 4, 12, 7, 5]\n",
        "Conjunto2Y = [9.14, 8.14, 8.74, 8.77, 9.26, 8.1, 6.13, 3.1, 9.13, 7.26, 4.74]\n",
        "\n",
        "Conjunto3X = [10, 8, 13, 9, 11, 14, 6, 4, 12, 7, 5]\n",
        "Conjunto3Y = [7.46, 6.77, 12.74, 7.11, 7.81, 8.84, 6.08, 5.39, 8.15, 6.42, 5.73]\n",
        "\n",
        "Conjunto4X = [8, 8, 8, 8, 8, 8, 8, 19, 8, 8, 8]\n",
        "Conjunto4Y = [6.58, 5.76, 7.71, 8.84, 8.47, 7.04, 5.25, 12.5, 5.56, 7.91, 6.89]\n",
        "\n",
        "\n",
        "# A) Média e Desvio padrão para cada conjunto de dados\n",
        "print('A) Média e Desvio padrão para cada conjunto de dados')\n",
        "print('Para o conjunto 1, a média é de ' + str(np.mean([[Conjunto1X], [Conjunto1Y]])) + ' e o desvio padrão de ' + str(np.std([[Conjunto1X], [Conjunto1Y]])))\n",
        "print('Para o conjunto 2, a média é de ' + str(np.mean([[Conjunto2X], [Conjunto2Y]])) + ' e o desvio padrão de ' + str(np.std([[Conjunto2X], [Conjunto2Y]])))\n",
        "print('Para o conjunto 3, a média é de ' + str(np.mean([[Conjunto3X], [Conjunto3Y]])) + ' e o desvio padrão de ' + str(np.std([[Conjunto3X], [Conjunto3Y]])))\n",
        "print('Para o conjunto 4, a média é de ' + str(np.mean([[Conjunto4X], [Conjunto4Y]])) + ' e o desvio padrão de ' + str(np.std([[Conjunto4X], [Conjunto4Y]])))\n",
        "\n",
        "# B) Coeficiente da Correlação para cada conjunto de dados\n",
        "print('\\r\\nB) Coeficiente da Correlação para cada conjunto de dados')\n",
        "correlacao1, _ = pearsonr(Conjunto1X, Conjunto1Y)\n",
        "correlacao2, _ = pearsonr(Conjunto2X, Conjunto2Y)\n",
        "correlacao3, _ = pearsonr(Conjunto3X, Conjunto3Y)\n",
        "correlacao4, _ = pearsonr(Conjunto4X, Conjunto4Y)\n",
        "\n",
        "print('A correlação do conjunto 1 é de %.3f' % correlacao1)\n",
        "print('A correlação do conjunto 2 é de %.3f' % correlacao2)\n",
        "print('A correlação do conjunto 3 é de %.3f' % correlacao3)\n",
        "print('A correlação do conjunto 4 é de %.3f' % correlacao4)\n"
      ],
      "execution_count": 62,
      "outputs": [
        {
          "output_type": "stream",
          "text": [
            "A) Média e Desvio padrão para cada conjunto de dados\n",
            "Para o conjunto 1, a média é de 8.250454545454545 e o desvio padrão de 2.727242158919598\n",
            "Para o conjunto 2, a média é de 8.250454545454545 e o desvio padrão de 2.72727215909085\n",
            "Para o conjunto 3, a média é de 8.25 e o desvio padrão de 2.726979681225766\n",
            "Para o conjunto 4, a média é de 8.250454545454545 e o desvio padrão de 2.7269071345869405\n",
            "\r\n",
            "B) Coeficiente da Correlação para cada conjunto de dados\n",
            "A correlação do conjunto 1 é de 0.816\n",
            "A correlação do conjunto 2 é de 0.816\n",
            "A correlação do conjunto 3 é de 0.816\n",
            "A correlação do conjunto 4 é de 0.817\n"
          ],
          "name": "stdout"
        }
      ]
    },
    {
      "cell_type": "markdown",
      "metadata": {
        "id": "mQQToS5hmXxl"
      },
      "source": [
        "Questão 6"
      ]
    },
    {
      "cell_type": "code",
      "metadata": {
        "colab": {
          "base_uri": "https://localhost:8080/"
        },
        "id": "ElfmEtQomZN7",
        "outputId": "aca14e44-0603-4b2b-fb0c-b59aeaf66001"
      },
      "source": [
        "from scipy.stats import pearsonr\n",
        "\n",
        "#Valores conforme apresentado na questão 6\n",
        "Produtividade = [100, 102, 105, 108, 112, 120]\n",
        "Alimentacao   = [4, 5, 1, 3, 6, 2]\n",
        "Exercicios    = [1, 3, 2, 4, 5, 6]\n",
        "Rodizio       = [3, 1, 2, 6, 4, 5]\n",
        "\n",
        "# Coeficiente da Correlação para cada variável sugerida por especialista\n",
        "correlacaoAlimentacao, _ = pearsonr(Produtividade, Alimentacao)\n",
        "correlacaoExercicios, _ = pearsonr(Produtividade, Exercicios)\n",
        "correlacaoRodizio, _ = pearsonr(Produtividade, Rodizio)\n",
        "\n",
        "print('A correlação de Produtividade e Alimentação é de %.3f' % correlacaoAlimentacao)\n",
        "print('A correlação de Produtividade e Exercícios é de %.3f' % correlacaoExercicios)\n",
        "print('A correlação de Produtividade e Rodízio é de %.3f' % correlacaoRodizio)\n",
        "\n"
      ],
      "execution_count": 63,
      "outputs": [
        {
          "output_type": "stream",
          "text": [
            "A correlação de Produtividade e Alimentação é de -0.197\n",
            "A correlação de Produtividade e Exercícios é de 0.926\n",
            "A correlação de Produtividade e Rodízio é de 0.634\n"
          ],
          "name": "stdout"
        }
      ]
    },
    {
      "cell_type": "markdown",
      "metadata": {
        "id": "_5fWx_r7obTI"
      },
      "source": [
        "Somente há uma **correção forte** entre *Produtividade* e *Exercícios*.\n",
        "Todavia cada avaliação foi feita sem grupo controle e em fábricas distintas, onde outras variáveis podem interferir no resultado. Logo não tem valor científico."
      ]
    }
  ]
}